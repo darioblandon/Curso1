{
  "cells": [
    {
      "cell_type": "markdown",
      "metadata": {
        "id": "view-in-github",
        "colab_type": "text"
      },
      "source": [
        "<a href=\"https://colab.research.google.com/github/darioblandon/Curso1/blob/main/lab/lab01/lab01_td.ipynb\" target=\"_parent\"><img src=\"https://colab.research.google.com/assets/colab-badge.svg\" alt=\"Open In Colab\"/></a>"
      ]
    },
    {
      "cell_type": "code",
      "execution_count": null,
      "metadata": {
        "deletable": false,
        "editable": false,
        "id": "eO_72Vb1Hgc1"
      },
      "outputs": [],
      "source": [
        "# Inicializar Otter\n",
        "import otter\n",
        "grader = otter.Notebook(\"lab01.ipynb\")"
      ],
      "id": "eO_72Vb1Hgc1"
    },
    {
      "cell_type": "markdown",
      "metadata": {
        "deletable": false,
        "jp-MarkdownHeadingCollapsed": true,
        "tags": [],
        "id": "wDNCU9PRHgc3"
      },
      "source": [
        "<p><img alt=\"Colaboratory logo\" height=\"140px\" src=\"https://upload.wikimedia.org/wikipedia/commons/archive/f/fb/20161010213812%21Escudo-UdeA.svg\" align=\"left\" hspace=\"10px\" vspace=\"0px\"></p>\n",
        "\n",
        "<h1> Fundamentos en ciencias de datos</h1>\n",
        "\n",
        "\n",
        "# ¡Bienvenido!\n",
        "\n",
        "¡Bienvenido a: *Fundamentos de la ciencia de datos*! Cada semana completarás dos tareas de laboratorio como esta. No se pueden aprender temas técnicos sin práctica práctica, por lo que los laboratorios son una parte importante del curso.\n",
        "\n",
        "Antes de comenzar, hay algunos detalles administrativos.\n",
        "\n",
        "Las sesiones de laboratorio semanales están diseñadas para desarrollar tus habilidades con conceptos computacionales e inferenciales. Estas tareas de laboratorio son una parte obligatoria del curso y se entregarán el miércoles y el viernes a las 11 p. m.\n",
        "\n",
        "¡Las sesiones de laboratorio no se transmiten por web! Estas son las políticas para obtener crédito completo (La práctica de laboratorio vale el 10% de tu calificación final):\n",
        "\n",
        "1. Si está dentro del laboratorio regular, para recibir crédito por el laboratorio debe asistir al laboratorio y completar la tarea de laboratorio antes de que finalice el período de laboratorio y ser revisado por el personal del curso O puede quedarse durante el período de laboratorio completo y lograr un progreso significativo. en la tarea de laboratorio y el personal del curso lo revisará para recibir el crédito completo por la práctica de laboratorio, incluso si no ha completado toda la tarea de laboratorio.\n",
        "\n",
        "2. Si está dentro del laboratorio de autoservicio (consulte las [políticas del curso] (http://data8.org/fa23/policies) para obtener más información), tendrá la opción de completar el laboratorio por su cuenta y enviar el formulario completo. laboratorio antes de las 11 p. m. del día de vencimiento. Si elige enviarlo temprano, debe terminar todo el laboratorio y aprobar todas las pruebas del autocalificador (100% de las pruebas aprobadas) para recibir crédito. No se otorgará ningún crédito parcial.\n",
        "\n",
        "Para el Laboratorio 1, **es necesario** completar el laboratorio.\n",
        "\n",
        "Colaborar en laboratorios está más que bien: ¡se recomienda! Rara vez deberías quedarte atascado durante más de unos minutos con las preguntas de los laboratorios, así que pide ayuda a un instructor o compañero de clase. (Explicar las cosas también es beneficioso; la mejor manera de solidificar su conocimiento sobre un tema es explicarlo). Sin embargo, no se limite a compartir respuestas.\n",
        "\n",
        "Puede leer más sobre las [políticas del curso] (http://data8.org/fa23/policies) en el [sitio web del curso] (http://data8.org/fa23/).\n",
        "\n",
        "#### El laboratorio de hoy\n",
        "\n",
        "En el laboratorio de hoy, aprenderá cómo:\n",
        "\n",
        "1. navegar por los cuadernos de Jupyter (como este);\n",
        "2. escribir y evaluar algunas *expresiones* básicas en Python, el lenguaje informático del curso;\n",
        "3. llamar a *funciones* para usar el código que otras personas han escrito; y\n",
        "Cuarto, divida el código Python en partes más pequeñas para comprenderlo.\n",
        "\n",
        "Esta práctica de laboratorio cubre partes del [Capítulo 3](http://www.inferentialthinking.com/chapters/03/programming-in-python.html) del libro de texto en línea. Deberías leer los ejemplos del libro, pero no ahora. En lugar de eso, ¡comencemos!"
      ],
      "id": "wDNCU9PRHgc3"
    },
    {
      "cell_type": "markdown",
      "metadata": {
        "id": "_C6NGBX0Hgc5"
      },
      "source": [
        "# 0. Formulario de pólizas obligatorias\n",
        "¡Leer el texto anterior le ahorrará tiempo!\n",
        "\n",
        "Complete [este](https://forms.gle/knEhFm28SprQi98E8) formulario antes de continuar. Utilice su correo electrónico de UdeA para acceder al formulario. Al final del formulario, habrá una palabra secreta que deberá ingresar en el cuadro a continuación. Recuerde poner la palabra secreta entre comillas al ingresarla (es decir, \"hola\"). ¡Las comillas indican que es del tipo String!"
      ],
      "id": "_C6NGBX0Hgc5"
    },
    {
      "cell_type": "code",
      "execution_count": null,
      "metadata": {
        "tags": [],
        "id": "f3tL9dEmHgc6"
      },
      "outputs": [],
      "source": [
        "secret_word = ..."
      ],
      "id": "f3tL9dEmHgc6"
    },
    {
      "cell_type": "code",
      "execution_count": null,
      "metadata": {
        "deletable": false,
        "editable": false,
        "id": "qSVwstEZHgc6"
      },
      "outputs": [],
      "source": [
        "grader.check(\"q0\")"
      ],
      "id": "qSVwstEZHgc6"
    },
    {
      "cell_type": "markdown",
      "metadata": {
        "id": "PGhuT6odHgc7"
      },
      "source": [
        "Jupyter Notebooks\n",
        "\n",
        "Esta página web se llama Jupyter Notebook. Un cuaderno es un lugar para escribir programas y ver sus resultados, y también para escribir texto.\n",
        "\n",
        "## 1.1. Celdas de texto\n",
        "En un cuaderno, cada rectángulo que contiene texto o código se llama *celda*.\n",
        "\n",
        "Las celdas de texto (como ésta) se pueden editar haciendo doble clic en ellas. Están escritos en un formato simple llamado [Markdown](https://www.markdownguide.org/basic-syntax/) para agregar formato y encabezados de sección. No es necesario que aprendas Markdown, pero quizás quieras hacerlo.\n",
        "\n",
        "Después de editar una celda de texto, haga clic en el botón \"ejecutar celda\" en la parte superior que se parece a ▶ o mantenga presionado `shift` + `return` para confirmar cualquier cambio. (Intente no borrar las instrucciones de la práctica)."
      ],
      "id": "PGhuT6odHgc7"
    },
    {
      "cell_type": "markdown",
      "metadata": {
        "deletable": false,
        "id": "8Ko4MI9SHgc7"
      },
      "source": [
        "**Pregunta 1.1.1.** Este párrafo está en su propia celda de texto. Intente editarlo para que esta oración sea la última oración del párrafo y luego haga clic en el botón \"ejecutar celda\" ▶ o mantenga presionado `shift` + `return`. Esta frase, por ejemplo, debería suprimirse. Éste también debería hacerlo."
      ],
      "id": "8Ko4MI9SHgc7"
    },
    {
      "cell_type": "markdown",
      "metadata": {
        "id": "lkF0uVsCHgc7"
      },
      "source": [
        "## 1.2. Celdas de código\n",
        "Otras celdas contienen código en el lenguaje Python 3. Al ejecutar una celda de código se ejecutará todo el código que contiene.\n",
        "\n",
        "Para ejecutar el código en una celda de código, primero haga clic en esa celda para activarla. Se resaltará con un pequeño rectángulo verde o azul. A continuación, presione ▶ o mantenga presionado `shift` + `return`.\n",
        "\n",
        "Intente ejecutar esta celda:"
      ],
      "id": "lkF0uVsCHgc7"
    },
    {
      "cell_type": "code",
      "execution_count": null,
      "metadata": {
        "id": "cKP0uODQHgc7"
      },
      "outputs": [],
      "source": [
        "print(\"Hello, World!\")"
      ],
      "id": "cKP0uODQHgc7"
    },
    {
      "cell_type": "markdown",
      "metadata": {
        "id": "-X1H5iqoHgc8"
      },
      "source": [
        "Y éste:"
      ],
      "id": "-X1H5iqoHgc8"
    },
    {
      "cell_type": "code",
      "execution_count": 1,
      "metadata": {
        "id": "t088S0WDHgc8",
        "colab": {
          "base_uri": "https://localhost:8080/"
        },
        "outputId": "dfe5f52f-c349-48a7-854f-bbda8f58a631"
      },
      "outputs": [
        {
          "output_type": "stream",
          "name": "stdout",
          "text": [
            "👋, 🌏!\n"
          ]
        }
      ],
      "source": [
        "print(\"\\N{WAVING HAND SIGN}, \\N{EARTH GLOBE ASIA-AUSTRALIA}!\")"
      ],
      "id": "t088S0WDHgc8"
    },
    {
      "cell_type": "markdown",
      "metadata": {
        "id": "uEVGS0qmHgc8"
      },
      "source": [
        "El componente fundamental del código Python es una expresión. Las celdas pueden contener varias líneas con múltiples expresiones. Cuando ejecuta una celda, las líneas de código se ejecutan en el orden en que aparecen. Cada expresión \"imprimir\" imprime una línea. Ejecute la siguiente celda y observe el orden de la salida."
      ],
      "id": "uEVGS0qmHgc8"
    },
    {
      "cell_type": "code",
      "execution_count": null,
      "metadata": {
        "deletable": false,
        "id": "4YCZMhsSHgc8"
      },
      "outputs": [],
      "source": [
        "print(\"First this line is printed,\")\n",
        "print(\"and then this one.\")"
      ],
      "id": "4YCZMhsSHgc8"
    },
    {
      "cell_type": "markdown",
      "metadata": {
        "id": "iaXTeu4yHgc9"
      },
      "source": [
        "**Pregunta 1.2.1.** Cambie la celda de arriba para que imprima:\n",
        "\n",
        "     Primero esta línea,\n",
        "     luego todo 🌏,\n",
        "     y luego este.\n",
        "\n",
        "*Pista:* Si estás atrapado en el símbolo de la Tierra durante más de unos minutos, intenta hablar con un vecino o un miembro del personal. Esa es una buena idea para cualquier problema de laboratorio."
      ],
      "id": "iaXTeu4yHgc9"
    },
    {
      "cell_type": "markdown",
      "metadata": {
        "id": "zpjSu67XHgc9"
      },
      "source": [
        "## 1.3. Escribir cuadernos Jupyter\n",
        "\n",
        "Puede utilizar los cuadernos de Jupyter para sus propios proyectos o documentos. Cuando crees tu propio cuaderno, necesitarás crear tus propias celdas para texto y código.\n",
        "\n",
        "Para agregar una celda, haga clic en el botón + en la barra de menú. Comenzará como una celda de texto. Puedes cambiarlo a una celda de código haciendo clic dentro de él para que quede resaltado, haciendo clic en el cuadro desplegable al lado del botón con triángulos dobles en la barra de menú y eligiendo \"Código\".\n",
        "\n",
        "**Pregunta 1.3.1.** Agregue una celda de código debajo de esta. Escriba el código que imprima:\n",
        "   \n",
        "     ¡Una celda completamente nueva! ♪🌏♪\n",
        "\n",
        "(Ese símbolo de nota musical es como el símbolo de la Tierra. Su nombre largo es `\\N{OCTAVA NOTA}`.)\n",
        "\n",
        "Ejecuta tu celular para verificar que funciona."
      ],
      "id": "zpjSu67XHgc9"
    },
    {
      "cell_type": "markdown",
      "metadata": {
        "id": "mcx5fqG2Hgc9"
      },
      "source": [
        "## 1.4. Errores\n",
        "Python es un lenguaje y, al igual que los lenguajes humanos naturales, tiene reglas. Se diferencia del lenguaje natural en dos aspectos importantes:\n",
        "1. Las reglas son *simples*. Puedes aprender la mayoría de ellos en unas pocas semanas y adquirir un dominio razonable del idioma en un semestre.\n",
        "2. Las reglas son *rígidas*. Si domina un lenguaje natural, puede comprender a un hablante que no lo domina, pasando por alto los pequeños errores. Una computadora que ejecuta código Python no es lo suficientemente inteligente para hacer eso.\n",
        "\n",
        "Siempre que escribas código, cometerás errores. Cuando ejecuta una celda de código que tiene errores, Python a veces generará mensajes de error para indicarle qué hizo mal.\n",
        "\n",
        "Los errores están bien; Incluso los programadores experimentados cometen muchos errores. Cuando cometes un error, sólo tienes que encontrar el origen del problema, solucionarlo y seguir adelante."
      ],
      "id": "mcx5fqG2Hgc9"
    },
    {
      "cell_type": "markdown",
      "metadata": {
        "id": "Be0mxbDbHgc9"
      },
      "source": [
        "Hemos cometido un error en la siguiente celda. Ejecútelo y vea qué sucede."
      ],
      "id": "Be0mxbDbHgc9"
    },
    {
      "cell_type": "code",
      "execution_count": null,
      "metadata": {
        "deletable": false,
        "tags": [
          "raises-exception"
        ],
        "id": "MQirTaNxHgc9"
      },
      "outputs": [],
      "source": [
        "print(\"This line is missing something.\""
      ],
      "id": "MQirTaNxHgc9"
    },
    {
      "cell_type": "markdown",
      "metadata": {
        "id": "sjSu3g9gHgc-"
      },
      "source": [
        "**Nota:** En la barra de herramientas, existe la opción de hacer clic en `Celda > Ejecutar todas las celdas`, lo que ejecutará todas las celdas de código en este cuaderno en orden. Sin embargo, el portátil deja de ejecutar celdas de código si encuentra un error, como el de la celda de arriba."
      ],
      "id": "sjSu3g9gHgc-"
    },
    {
      "cell_type": "markdown",
      "metadata": {
        "id": "WP2lAkHJHgc-"
      },
      "source": [
        "Deberías ver algo como esto (menos nuestras anotaciones y el resultado de error D8):\n",
        "\n",
        "<img src=\"https://github.com/darioblandon/materials-fa23/blob/main/lab/lab01/error.jpg?raw=1\"/>\n",
        "\n",
        "La última línea del resultado de error intenta indicarle qué salió mal. La *sintaxis* de un lenguaje es su estructura, y este `SyntaxError` te indica que has creado una estructura ilegal. \"`EOF`\" significa \"fin de archivo\", por lo que el mensaje dice que Python esperaba que escribieras algo más (en este caso, un paréntesis derecho) antes de terminar la celda.\n",
        "\n",
        "Hay mucha terminología en los lenguajes de programación, pero no es necesario saberla toda para programar de forma eficaz. Si ve un mensaje críptico como este, a menudo podrá arreglárselas sin descifrarlo. (Por supuesto, si está frustrado, pida ayuda a un vecino o a un miembro del personal). Sin embargo, nuestro paquete de errores D8 ayuda a explicar los errores y excepciones de Python y sus causas comunes, así como recursos a los que puede consultar para obtener ayuda adicional. En el ejemplo anterior, vemos que una fuente de un \"SyntaxError\" tiene que ver con los paréntesis.\n",
        "\n",
        "\n",
        "Intente corregir el código anterior para que pueda ejecutar la celda y ver el mensaje deseado en lugar de un error."
      ],
      "id": "WP2lAkHJHgc-"
    },
    {
      "cell_type": "markdown",
      "metadata": {
        "id": "-5dxTva_Hgc-"
      },
      "source": [
        "## 1.5. El núcleo\n",
        "El kernel es un programa que ejecuta el código dentro de su computadora portátil y genera los resultados. En la parte superior derecha de su ventana, puede ver un círculo que indica el estado de su kernel. Si el círculo está vacío (⚪), el kernel está inactivo y listo para ejecutar código. Si el círculo está lleno (⚫), el núcleo está ocupado ejecutando algún código.\n",
        "\n",
        "Al lado de cada celda de código, verá un texto que dice \"[ ]\". Antes de ejecutar la celda, verá \"[ ]\". Cuando la celda se esté ejecutando, verá `[*]`. Si ve un asterisco (\\*) junto a una celda que no desaparece, es probable que el código dentro de la celda esté tardando demasiado en ejecutarse y podría ser un buen momento para interrumpir el kernel (que se analiza a continuación). . Cuando termine de ejecutarse una celda, verá un número entre corchetes, como este: `[1]`. El número corresponde al orden en que ejecuta las celdas; entonces, la primera celda que ejecute mostrará un 1 cuando termine de ejecutarse, la segunda mostrará un 2, y así sucesivamente.\n",
        "\n",
        "Es posible que se encuentre con problemas en los que su kernel esté bloqueado por una cantidad excesiva de tiempo, su computadora portátil sea muy lenta y no responda, o su kernel pierda su conexión. Si esto sucede, intente los siguientes pasos:\n",
        "1. En la parte superior de la pantalla, haga clic en **Kernel** y luego en **Interrumpir kernel**.\n",
        "2. Si eso no ayuda, haga clic en **Kernel** y luego en **Reiniciar kernel**. Si hace esto, tendrá que ejecutar las celdas de código desde el inicio de su computadora portátil hasta donde detuvo su trabajo."
      ],
      "id": "-5dxTva_Hgc-"
    },
    {
      "cell_type": "markdown",
      "metadata": {
        "id": "8FXiNn_rHgc-"
      },
      "source": [
        "## 1.6. Enviar su trabajo\n",
        "Todas las tareas del curso se distribuirán en cuadernos como este, y usted enviará su trabajo desde el cuaderno. Usaremos un sistema llamado Otter Grader y Gradescope para verificar su trabajo y ayudarlo a enviarlo. Si aún no lo ha hecho, asegúrese de haber ejecutado la celda en la parte superior de este cuaderno para inicializar OtterGrader."
      ],
      "id": "8FXiNn_rHgc-"
    },
    {
      "cell_type": "markdown",
      "metadata": {
        "id": "u-gDBIKwHgc-"
      },
      "source": [
        "Mire este [video](https://drive.google.com/file/d/1SGK6B7b1VGChPvCNKyIcdt02g7l-j8Dd/view) para ver cómo enviar una tarea."
      ],
      "id": "u-gDBIKwHgc-"
    },
    {
      "cell_type": "markdown",
      "metadata": {
        "id": "Ju375fOlHgc-"
      },
      "source": [
        "# 2. Números\n",
        "\n",
        "La información cuantitativa surge en todas partes de la ciencia de datos. Además de representar comandos para imprimir líneas, las expresiones pueden representar números y métodos de combinación de números. La expresión `3.2500` se evalúa como el número 3.25. (Ejecute la celda y vea)."
      ],
      "id": "Ju375fOlHgc-"
    },
    {
      "cell_type": "code",
      "execution_count": null,
      "metadata": {
        "id": "5bsJJCB7Hgc_"
      },
      "outputs": [],
      "source": [
        "3.2500"
      ],
      "id": "5bsJJCB7Hgc_"
    },
    {
      "cell_type": "markdown",
      "metadata": {
        "id": "2VrTRTXgHgc_"
      },
      "source": [
        "Observe que no tuvimos que \"imprimir\". Cuando ejecuta una celda del cuaderno, si la última línea tiene un valor, Jupyter imprime ese valor de manera útil. Sin embargo, no imprimirá las líneas anteriores automáticamente."
      ],
      "id": "2VrTRTXgHgc_"
    },
    {
      "cell_type": "code",
      "execution_count": null,
      "metadata": {
        "tags": [],
        "id": "2RS-hmBnHgc_"
      },
      "outputs": [],
      "source": [
        "print(2)\n",
        "3\n",
        "4"
      ],
      "id": "2RS-hmBnHgc_"
    },
    {
      "cell_type": "markdown",
      "metadata": {
        "id": "3Jex8zoQHgc_"
      },
      "source": [
        "Arriba, deberías ver que 4 es el valor de la última expresión, se imprime 2, pero 3 se pierde para siempre porque no se imprimió ni fue la última.\n",
        "\n",
        "De todos modos, no querrás imprimir todo todo el tiempo. Pero si te da pena 3, cambia la celda de arriba para imprimirla."
      ],
      "id": "3Jex8zoQHgc_"
    },
    {
      "cell_type": "markdown",
      "metadata": {
        "id": "23xkFb9FHgc_"
      },
      "source": [
        "## 2.1. Aritmética\n",
        "La línea en la siguiente celda resta. Su valor es el que cabría esperar. Ejecuta lo."
      ],
      "id": "23xkFb9FHgc_"
    },
    {
      "cell_type": "code",
      "execution_count": null,
      "metadata": {
        "id": "ZianN072Hgc_"
      },
      "outputs": [],
      "source": [
        "3.25 - 1.5"
      ],
      "id": "ZianN072Hgc_"
    },
    {
      "cell_type": "markdown",
      "metadata": {
        "id": "JubqGJU3Hgc_"
      },
      "source": [
        "Muchas operaciones aritméticas básicas están integradas en Python. La sección del libro de texto sobre [Expresiones] (http://www.inferentialthinking.com/chapters/03/1/Expressions.html) describe todos los operadores aritméticos utilizados en el curso. El operador común que difiere de la notación matemática típica es `**`, que eleva un número a la potencia del otro. Entonces, `2**3` significa $2^3$ y se evalúa como 8.\n",
        "\n",
        "El orden de las operaciones es el mismo que aprendiste en la escuela primaria y Python también tiene paréntesis. Por ejemplo, compare los resultados de las celdas siguientes. ¡La segunda celda usa paréntesis para un feliz año nuevo!"
      ],
      "id": "JubqGJU3Hgc_"
    },
    {
      "cell_type": "code",
      "execution_count": null,
      "metadata": {
        "id": "pVzwh67UHgdA"
      },
      "outputs": [],
      "source": [
        "6+6*5-6*3**2*2**3/4*7"
      ],
      "id": "pVzwh67UHgdA"
    },
    {
      "cell_type": "code",
      "execution_count": null,
      "metadata": {
        "id": "KxnVWL7JHgdA"
      },
      "outputs": [],
      "source": [
        "6+(6*5-(6*3))**2*((2**3)/4*7)"
      ],
      "id": "KxnVWL7JHgdA"
    },
    {
      "cell_type": "markdown",
      "metadata": {
        "id": "p5BTbI7iHgdA"
      },
      "source": [
        "En notación matemática estándar, la primera expresión es\n",
        "\n",
        "$$6 + 6 × 5 - 6 × 3^2 \\times \\frac{2^3}{4} \\times 7,$$\n",
        "\n",
        "mientras que la segunda expresión es\n",
        "\n",
        "$$6 + (6 \\times 5 - (6 \\times 3))^2 \\times \\left(\\frac{\\left(2^3\\right)}{4} \\times 7\\right).$$\n",
        "\n",
        "**Pregunta 2.1.1.** Escribe una expresión de Python en la siguiente celda que sea igual a $\\displaystyle 5 \\times \\left(3 \\frac{10}{11}\\right) - 50 \\frac{1}{3 } + 2^{0.5 \\times 22} - \\frac{7}{33} + 6$. Eso es cinco por tres y diez onceavos, menos cincuenta y un tercio, más dos elevado a la mitad de veintidós, menos siete treinta y tres más seis.\n",
        "\n",
        "Reemplace las elipses (`...`) con su expresión. Intente utilizar paréntesis sólo cuando sea necesario.\n",
        "\n",
        "**Nota:** Por \"$\\displaystyle 3 \\frac{10}{11}$\", nos referimos a $\\displaystyle 3+\\frac{10}{11}$, no a $\\displaystyle 3 \\times \\frac{ 10}{11}$.\n",
        "\n",
        "*Sugerencia:* El resultado correcto debe comenzar con un número familiar."
      ],
      "id": "p5BTbI7iHgdA"
    },
    {
      "cell_type": "code",
      "execution_count": null,
      "metadata": {
        "deletable": false,
        "tags": [],
        "id": "-V795W5hHgdA"
      },
      "outputs": [],
      "source": [
        "..."
      ],
      "id": "-V795W5hHgdA"
    },
    {
      "cell_type": "markdown",
      "metadata": {
        "id": "rEFrfiMLHgdA"
      },
      "source": [
        "# 3. Nombres\n",
        "En lenguaje natural, tenemos terminología que nos permite hacer referencia rápidamente a conceptos muy complicados. No decimos: \"¡Ese es un mamífero grande con pelaje marrón y dientes afilados!\" En cambio, simplemente decimos: \"¡Oso!\"\n",
        "\n",
        "En Python, hacemos esto con *declaraciones de asignación*. Una declaración de asignación tiene un nombre en el lado izquierdo de un signo `=` y una expresión que se evaluará en el lado derecho."
      ],
      "id": "rEFrfiMLHgdA"
    },
    {
      "cell_type": "code",
      "execution_count": 3,
      "metadata": {
        "id": "qlbCtfdmHgdA"
      },
      "outputs": [],
      "source": [
        "ten = 3 * 2 + 4"
      ],
      "id": "qlbCtfdmHgdA"
    },
    {
      "cell_type": "markdown",
      "metadata": {
        "id": "DejgYFckHgdA"
      },
      "source": [
        "Cuando ejecuta esa celda, Python primero calcula el valor de la expresión en el lado derecho, `3 * 2 + 4`, que es el número 10. Luego asigna ese valor al nombre `ten`. En ese momento, el código en la celda termina de ejecutarse.\n",
        "\n",
        "Después de ejecutar esa celda, el valor 10 está vinculado al nombre \"ten\":"
      ],
      "id": "DejgYFckHgdA"
    },
    {
      "cell_type": "code",
      "execution_count": 4,
      "metadata": {
        "id": "tjR93xfQHgdB",
        "colab": {
          "base_uri": "https://localhost:8080/"
        },
        "outputId": "3a56ce31-adec-426f-b2ce-75b9e449ab21"
      },
      "outputs": [
        {
          "output_type": "execute_result",
          "data": {
            "text/plain": [
              "10"
            ]
          },
          "metadata": {},
          "execution_count": 4
        }
      ],
      "source": [
        "ten"
      ],
      "id": "tjR93xfQHgdB"
    },
    {
      "cell_type": "markdown",
      "metadata": {
        "id": "lp3MqcSUHgdK"
      },
      "source": [
        "La afirmación \"ten = 3 * 2 + 4\" no afirma que \"ten\" ya sea igual a \"3 * 2 + 4\", como podríamos esperar por analogía con la notación matemática. Más bien, esa línea de código cambia lo que significa \"ten\"; ahora se refiere al valor 10, mientras que antes no significaba nada en absoluto.\n",
        "\n",
        "Si los diseñadores de Python hubieran sido despiadadamente pedantes, nos habrían hecho escribir\n",
        "\n",
        "     define el nombre ten para que en adelante tenga el valor de 3 * 2 + 4\n",
        "\n",
        "en cambio. ¡Probablemente apreciará la brevedad de \"`=`\"! Pero tenga en cuenta que este es el verdadero significado.\n",
        "\n",
        "**Pregunta 3.1.** Ejecute la siguiente celda que usa un nombre de variable `eleven` que no ha sido asignado a nada. ¡Verás un error!"
      ],
      "id": "lp3MqcSUHgdK"
    },
    {
      "cell_type": "code",
      "execution_count": null,
      "metadata": {
        "tags": [
          "raises-exception"
        ],
        "id": "Ke8UJxt8HgdK"
      },
      "outputs": [],
      "source": [
        "eleven + 8"
      ],
      "id": "Ke8UJxt8HgdK"
    },
    {
      "cell_type": "markdown",
      "metadata": {
        "id": "0ICXOF9CHgdK"
      },
      "source": [
        "Un patrón común en los cuadernos de Jupyter es asignar un valor a un nombre y luego evaluar inmediatamente el nombre en la última línea de la celda para que el valor se muestre como salida."
      ],
      "id": "0ICXOF9CHgdK"
    },
    {
      "cell_type": "code",
      "execution_count": null,
      "metadata": {
        "id": "bVYEPntQHgdK"
      },
      "outputs": [],
      "source": [
        "close_to_pi = 355/113\n",
        "close_to_pi"
      ],
      "id": "bVYEPntQHgdK"
    },
    {
      "cell_type": "markdown",
      "metadata": {
        "id": "6hqXfBpBHgdL"
      },
      "source": [
        "Another common pattern is that a series of lines in a single cell will build up a complex computation in stages, naming the intermediate results."
      ],
      "id": "6hqXfBpBHgdL"
    },
    {
      "cell_type": "code",
      "execution_count": null,
      "metadata": {
        "id": "fPDxt_4rHgdL"
      },
      "outputs": [],
      "source": [
        "semimonthly_salary = 842.5\n",
        "monthly_salary = 2 * semimonthly_salary\n",
        "number_of_months_in_a_year = 12\n",
        "yearly_salary = number_of_months_in_a_year * monthly_salary\n",
        "yearly_salary"
      ],
      "id": "fPDxt_4rHgdL"
    },
    {
      "cell_type": "markdown",
      "metadata": {
        "id": "JyA2aRzEHgdL"
      },
      "source": [
        "Los nombres en Python pueden tener letras (las letras mayúsculas y minúsculas están bien y cuentan como letras diferentes), guiones bajos y números. El primer carácter no puede ser un número (de lo contrario, el nombre podría parecer un número). Y los nombres no pueden contener espacios, ya que los espacios se utilizan para separar fragmentos de código entre sí.\n",
        "\n",
        "Aparte de esas reglas, el nombre que le pongas a algo no le importa *a Python*. Por ejemplo, esta celda hace lo mismo que la celda anterior, excepto que todo tiene un nombre diferente:"
      ],
      "id": "JyA2aRzEHgdL"
    },
    {
      "cell_type": "code",
      "execution_count": null,
      "metadata": {
        "id": "7-nj0eO3HgdL"
      },
      "outputs": [],
      "source": [
        "a = 842.5\n",
        "b = 2 * a\n",
        "c = 12\n",
        "d = c * b\n",
        "d"
      ],
      "id": "7-nj0eO3HgdL"
    },
    {
      "cell_type": "markdown",
      "metadata": {
        "id": "HI7usryPHgdL"
      },
      "source": [
        "**Sin embargo**, los nombres son muy importantes para que su código sea *legible* para usted y los demás. La celda de arriba es más corta, pero es totalmente inútil sin una explicación de lo que hace."
      ],
      "id": "HI7usryPHgdL"
    },
    {
      "cell_type": "markdown",
      "metadata": {
        "id": "12KSFqBVHgdM"
      },
      "source": [
        "## 3.1. Comprobando su código\n",
        "Ahora que sabes cómo nombrar cosas, puedes comenzar a usar las *pruebas* integradas para comprobar si tu trabajo es correcto. A veces, hay varias pruebas para una sola pregunta y es necesario aprobarlas todas para recibir crédito por la pregunta. No cambie el contenido de las celdas de prueba.\n",
        "\n",
        "Continúe e intente la pregunta 3.1.2. Al ejecutar la celda directamente después se comprobará si ha asignado \"segundos_en_una_década\" correctamente en la Pregunta 3.1.2. Si no lo has hecho, esta prueba te dirá la respuesta correcta. Resista la tentación de simplemente copiarlo y, en su lugar, intente ajustar su expresión. (A veces las pruebas darán pistas sobre lo que salió mal...)"
      ],
      "id": "12KSFqBVHgdM"
    },
    {
      "cell_type": "markdown",
      "metadata": {
        "id": "1akcogczHgdM"
      },
      "source": [
        "**Pregunta 3.1.2.** Asigne el nombre `segundos_en_una_década` al número de segundos entre la medianoche del 1 de enero de 2010 y la medianoche del 1 de enero de 2020. Tenga en cuenta que hay dos años bisiestos en este lapso de una década. Un año no bisiesto tiene 365 días y un año bisiesto tiene 366 días.\n",
        "\n",
        "*Pista:* Si estás atascado, la siguiente sección te muestra cómo obtener pistas.\n"
      ],
      "id": "1akcogczHgdM"
    },
    {
      "cell_type": "code",
      "execution_count": null,
      "metadata": {
        "deletable": false,
        "tags": [],
        "id": "QxSUnCZHHgdM"
      },
      "outputs": [],
      "source": [
        "# Cambiar la siguiente línea\n",
        "# para que calcule el número de segundos en una década\n",
        "# y asigna a ese número el nombre, segundos_en_una_década.\n",
        "\n",
        "segundos_en_una_década = ...\n",
        "\n",
        "# Hemos puesto esta línea en esta celda.\n",
        "# para que imprima el valor que le has dado a segundos_en_una_década cuando lo ejecutas.\n",
        "# No es necesario cambiar esto.\n",
        "segundos_en_una_década"
      ],
      "id": "QxSUnCZHHgdM"
    },
    {
      "cell_type": "code",
      "execution_count": null,
      "metadata": {
        "deletable": false,
        "editable": false,
        "id": "2tDgUp6THgdM"
      },
      "outputs": [],
      "source": [
        "grader.check(\"q3_1_2\")"
      ],
      "id": "2tDgUp6THgdM"
    },
    {
      "cell_type": "markdown",
      "metadata": {
        "id": "_Dq76RdbHgdM"
      },
      "source": [
        "# 3.2. Comentarios\n",
        "Es posible que hayas notado estas líneas en la celda en la que respondiste la pregunta 3.2:\n",
        "\n",
        "     # Cambiar la siguiente línea\n",
        "     # para que calcule el número de segundos en una década\n",
        "     # y asigna a ese número el nombre, segundos_en_una_década.\n",
        "    \n",
        "Esto se llama *comentario*. No hace que suceda nada en Python; Python ignora cualquier cosa en una línea después de `#`. En cambio, está ahí para comunicarle algo sobre el código a usted, el lector humano. Los comentarios son extremadamente útiles.\n",
        "\n",
        "<img src=\"http://imgs.xkcd.com/comics/future_self.png\">\n",
        "\n",
        "Fuente: [XKCD](http://imgs.xkcd.com/comics/future_self.png)"
      ],
      "id": "_Dq76RdbHgdM"
    },
    {
      "cell_type": "markdown",
      "metadata": {
        "id": "zW7Eq6_oHgdM"
      },
      "source": [
        "## 3.3. Aplicación: un experimento de física\n",
        "\n",
        "En la misión Apolo 15 a la Luna, el astronauta David Scott replicó el famoso experimento de física de Galileo en el que demostró que la gravedad acelera objetos de diferente masa a la misma velocidad. Debido a que no hay resistencia del aire para un objeto que cae sobre la superficie de la Luna, incluso dos objetos con masas y densidades muy diferentes deberían caer al mismo ritmo. David Scott comparó una pluma y un martillo.\n",
        "\n",
        "Puede ejecutar la siguiente celda para ver un vídeo del experimento."
      ],
      "id": "zW7Eq6_oHgdM"
    },
    {
      "cell_type": "code",
      "execution_count": null,
      "metadata": {
        "id": "sXQoCYUFHgdN"
      },
      "outputs": [],
      "source": [
        "from IPython.display import YouTubeVideo\n",
        "# The original URL is:\n",
        "# https://www.youtube.com/watch?v=U7db6ZeLR5s\n",
        "\n",
        "YouTubeVideo(\"U7db6ZeLR5s\")"
      ],
      "id": "sXQoCYUFHgdN"
    },
    {
      "cell_type": "markdown",
      "metadata": {
        "id": "6-Q2JLqpHgdN"
      },
      "source": [
        "Aquí está la transcripción del vídeo:\n",
        "\n",
        "**167:22:06 Scott**: Bueno, en mi mano izquierda tengo una pluma; en mi mano derecha, un martillo. Y supongo que una de las razones por las que llegamos hoy aquí fue porque un caballero llamado Galileo, hace mucho tiempo, hizo un descubrimiento bastante significativo sobre la caída de objetos en campos de gravedad. Y pensamos cuál sería un mejor lugar para confirmar sus hallazgos que la Luna. Y por eso pensamos en probarlo aquí para usted. La pluma resulta ser, apropiadamente, una pluma de halcón para nuestro Halcón. Y los dejaré aquí a los dos y, con suerte, caerán al suelo al mismo tiempo.\n",
        "\n",
        "**167:22:43 Scott**: ¿Qué tal eso?\n",
        "\n",
        "**167:22:45 Allen**: ¡Qué tal eso! (Aplausos en Houston)\n",
        "\n",
        "**167:22:46 Scott**: Lo que demuestra que el Sr. Galileo tenía razón en sus hallazgos.."
      ],
      "id": "6-Q2JLqpHgdN"
    },
    {
      "cell_type": "markdown",
      "metadata": {
        "id": "ujxTBG5LHgdN"
      },
      "source": [
        "**Ley de Newton.** Usando este metraje, también podemos intentar confirmar otra parte famosa de la física: la ley de gravitación universal de Newton. Las leyes de Newton predicen que cualquier objeto que caiga cerca de la superficie de la Luna debería caer\n",
        "\n",
        "$$\\frac{1}{2} G \\frac{M}{R^2} t^2 \\text{ metros}$$\n",
        "\n",
        "después de $t$ segundos, donde $G$ es una constante universal, $M$ es la masa de la luna en kilogramos y $R$ es el radio de la luna en metros. Entonces, si conocemos $G$, $M$ y $R$, entonces las leyes de Newton nos permiten predecir qué tan lejos caerá un objeto en cualquier período de tiempo.\n",
        "\n",
        "Para verificar la precisión de esta ley, calcularemos la diferencia entre la distancia prevista que cae el martillo y la distancia real. (Si son diferentes, podría deberse a que las leyes de Newton son erróneas, a que nuestras mediciones son imprecisas o a que hay otros factores que afectan al martillo y que no hemos tenido en cuenta).\n",
        "\n",
        "Alguien estudió el vídeo y estimó que el martillo cayó a 113 cm de la superficie. Contando fotogramas en el vídeo, el martillo cae durante 1,2 segundos (36 fotogramas)."
      ],
      "id": "ujxTBG5LHgdN"
    },
    {
      "cell_type": "markdown",
      "metadata": {
        "id": "JTXekoLLHgdN"
      },
      "source": [
        "**Pregunta 3.3.1.** Complete el código en la siguiente celda para completar los datos del experimento.\n",
        "\n",
        "*Pista:* No se requiere ningún cálculo; simplemente complete los datos del párrafo anterior.\n"
      ],
      "id": "JTXekoLLHgdN"
    },
    {
      "cell_type": "code",
      "execution_count": null,
      "metadata": {
        "deletable": false,
        "tags": [],
        "id": "q7ddygtUHgdN"
      },
      "outputs": [],
      "source": [
        "# t, the duration of the fall in the experiment, in seconds.\n",
        "# Fill this in.\n",
        "time = ...\n",
        "\n",
        "# The estimated distance the hammer actually fell, in meters.\n",
        "# Fill this in.\n",
        "estimated_distance_m = ..."
      ],
      "id": "q7ddygtUHgdN"
    },
    {
      "cell_type": "code",
      "execution_count": null,
      "metadata": {
        "deletable": false,
        "editable": false,
        "id": "9Pb26qTZHgdO"
      },
      "outputs": [],
      "source": [
        "grader.check(\"q3_3_1\")"
      ],
      "id": "9Pb26qTZHgdO"
    },
    {
      "cell_type": "markdown",
      "metadata": {
        "id": "8dAjJA6oHgdO"
      },
      "source": [
        "**Pregunta 3.3.2.** Ahora, completa el código en la siguiente celda para calcular la diferencia entre las distancias previstas y estimadas (en metros) a las que cayó el martillo en este experimento.\n",
        "\n",
        "Esto solo significa traducir la fórmula anterior ($\\frac{1}{2}G\\frac{M}{R^2}t^2$) al código Python. Tendrás que reemplazar cada variable en la fórmula matemática con el nombre que le dimos a ese número en el código Python.\n",
        "\n",
        "*Pista:* Intente utilizar variables que ya definió en la pregunta 3.3.1"
      ],
      "id": "8dAjJA6oHgdO"
    },
    {
      "cell_type": "code",
      "execution_count": null,
      "metadata": {
        "deletable": false,
        "tags": [],
        "id": "yfV_TZsxHgdO"
      },
      "outputs": [],
      "source": [
        "# First, we've written down the values of the 3 universal constants\n",
        "# that show up in Newton's formula.\n",
        "\n",
        "# G, the universal constant measuring the strength of gravity.\n",
        "gravity_constant = 6.674 * 10**-11\n",
        "\n",
        "# M, the moon's mass, in kilograms.\n",
        "moon_mass_kg = 7.34767309 * 10**22\n",
        "\n",
        "# R, the radius of the moon, in meters.\n",
        "moon_radius_m = 1.737 * 10**6\n",
        "\n",
        "# The distance the hammer should have fallen\n",
        "# over the duration of the fall, in meters,\n",
        "# according to Newton's law of gravity.\n",
        "# The text above describes the formula\n",
        "# for this distance given by Newton's law.\n",
        "# **YOU FILL THIS PART IN.**\n",
        "predicted_distance_m = ...\n",
        "\n",
        "# Here we've computed the difference\n",
        "# between the predicted fall distance and the distance we actually measured.\n",
        "# If you've filled in the above code, this should just work.\n",
        "difference = predicted_distance_m - estimated_distance_m\n",
        "difference"
      ],
      "id": "yfV_TZsxHgdO"
    },
    {
      "cell_type": "code",
      "execution_count": null,
      "metadata": {
        "deletable": false,
        "editable": false,
        "id": "X-YFg8slHgdO"
      },
      "outputs": [],
      "source": [
        "grader.check(\"q3_3_2\")"
      ],
      "id": "X-YFg8slHgdO"
    },
    {
      "cell_type": "markdown",
      "metadata": {
        "id": "yQhQ_U9PHgdO"
      },
      "source": [
        "## 4. Funciones de llamada\n",
        "\n",
        "La forma más común de combinar o manipular valores en Python es llamando funciones. Python viene con muchas funciones integradas que realizan operaciones comunes.\n",
        "\n",
        "Por ejemplo, la función `abs` toma un solo número como argumento y devuelve el valor absoluto de ese número. Ejecute las siguientes dos celdas y vea si comprende el resultado."
      ],
      "id": "yQhQ_U9PHgdO"
    },
    {
      "cell_type": "code",
      "execution_count": null,
      "metadata": {
        "id": "GqkUk2zQHgdP"
      },
      "outputs": [],
      "source": [
        "abs(5)"
      ],
      "id": "GqkUk2zQHgdP"
    },
    {
      "cell_type": "code",
      "execution_count": null,
      "metadata": {
        "id": "J4M-b3n1HgdP"
      },
      "outputs": [],
      "source": [
        "abs(-5)"
      ],
      "id": "J4M-b3n1HgdP"
    },
    {
      "cell_type": "markdown",
      "metadata": {
        "id": "SYzET3s0HgdP"
      },
      "source": [
        "## 4.1. Aplicación: Computación de distancias recorridas\n",
        "Chunhua está en la esquina de la 7ma Avenida y la Calle 42 en Midtown Manhattan, y quiere saber hasta dónde tendría que caminar para llegar a Gramercy School en la esquina de la 10ma Avenida y la Calle 34.\n",
        "\n",
        "No puede cortar bloques en diagonal, ya que hay edificios en el camino. Tiene que caminar por las aceras. Usando el siguiente mapa, ve que tendría que caminar 3 avenidas (cuadras largas) y 8 calles (cuadras cortas). En términos de los números dados, calculó 3 como la diferencia entre 7 y 10, *en valor absoluto*, y 8 de manera similar.\n",
        "\n",
        "Chunhua también sabe que los bloques en Manhattan miden aproximadamente 80 m por 274 m (las avenidas están más separadas que las calles). Entonces, en total, tendría que caminar $(80 \\times |42 - 34| + 274 \\times |7 - 10|)$ metros para llegar al parque.\n",
        "\n",
        "<img src=\"https://github.com/darioblandon/materials-fa23/blob/main/lab/lab01/map.jpg?raw=1\"/>\n",
        "\n",
        "**Pregunta 4.1.1.** Complete la línea `num_avenues_away = ...` en la siguiente celda para que la celda calcule la distancia que debe caminar Chunhua y le dé el nombre `manhattan_distance`. Todo lo demás ya lo hemos completado. **Utilice la función `abs`.** Además, asegúrese de ejecutar la celda de prueba después para probar su código."
      ],
      "id": "SYzET3s0HgdP"
    },
    {
      "cell_type": "code",
      "execution_count": null,
      "metadata": {
        "deletable": false,
        "tags": [],
        "id": "D1izbbBSHgdP"
      },
      "outputs": [],
      "source": [
        "# Aquí está el número de calles de distancia:\n",
        "num_streets_away = abs(42-34)\n",
        "\n",
        "# Calcule el número de avenidas de distancia de manera similar:\n",
        "num_avenues_away = ...\n",
        "\n",
        "street_length_m = 80\n",
        "avenue_length_m = 274\n",
        "\n",
        "# Ahora calculamos la distancia total que debe caminar Chunhua.\n",
        "manhattan_distance = street_length_m*num_streets_away + avenue_length_m*num_avenues_away\n",
        "\n",
        "# Hemos incluido esta línea para que veas la distancia que has calculado\n",
        "# cuando ejecutas esta celda.\n",
        "# No es necesario cambiarlo, pero puedes hacerlo si lo deseas.\n",
        "manhattan_distance"
      ],
      "id": "D1izbbBSHgdP"
    },
    {
      "cell_type": "code",
      "execution_count": null,
      "metadata": {
        "deletable": false,
        "editable": false,
        "id": "RpikPChZHgdP"
      },
      "outputs": [],
      "source": [
        "grader.check(\"q4_1_1\")"
      ],
      "id": "RpikPChZHgdP"
    },
    {
      "cell_type": "markdown",
      "metadata": {
        "id": "dLZTR0TQHgdP"
      },
      "source": [
        "##### Múltiples argumentos\n",
        "Algunas funciones toman múltiples argumentos, separados por comas. Por ejemplo, la función incorporada `max` devuelve el argumento máximo que se le pasa."
      ],
      "id": "dLZTR0TQHgdP"
    },
    {
      "cell_type": "code",
      "execution_count": null,
      "metadata": {
        "id": "su8qAFmRHgdQ"
      },
      "outputs": [],
      "source": [
        "max(2, -3, 4, -5)"
      ],
      "id": "su8qAFmRHgdQ"
    },
    {
      "cell_type": "markdown",
      "metadata": {
        "id": "Mort6HJdHgdQ"
      },
      "source": [
        "# 5. Comprensión de las expresiones anidadas\n",
        "Las llamadas a funciones y las expresiones aritméticas pueden contener expresiones. Viste un ejemplo en la última pregunta:\n",
        "\n",
        "     abdominales(42-34)\n",
        "\n",
        "tiene 2 expresiones numéricas en una expresión de resta en una expresión de llamada de función. Y probablemente escribiste algo como \"abs(7-10)\" para calcular \"num_avenues_away\".\n",
        "\n",
        "Las expresiones anidadas pueden convertirse en código de apariencia complicada. Sin embargo, la forma en que se descomponen las expresiones complicadas es muy regular.\n",
        "\n",
        "Supongamos que estamos interesados en longitudes de gatos que son muy inusuales. Diremos que una longitud es inusual en la medida en que está muy alejada en la recta numérica de la longitud promedio de un gato. Una estimación de la longitud promedio de un gato (que esperamos que sea un promedio de todos los gatos de la Tierra hoy en día) es de **18,2** pulgadas.\n",
        "\n",
        "Entonces, si los ravioles miden 21,7 pulgadas de largo, entonces su longitud está a $|21,7 - 18,2|$, o $3,5$, pulgadas de distancia del promedio. Aquí hay una foto de eso:\n",
        "\n",
        "<img src=\"https://github.com/darioblandon/materials-fa23/blob/main/lab/lab01/cat_lengths.png?raw=1\">\n",
        "\n",
        "La fuente de la longitud promedio de los gatos es [Wikipedia](https://en.wikipedia.org/wiki/Cat#:~:text=The%20domestic%20cat%20has%20a,(9%20and%2011%20lb). ). Las longitudes indicadas para gatos no son reales y pueden no ser plausibles (¡pero los nombres son de gatos reales!)\n",
        "\n",
        "Y así es como escribiríamos esa expresión en una línea de código Python:"
      ],
      "id": "Mort6HJdHgdQ"
    },
    {
      "cell_type": "code",
      "execution_count": null,
      "metadata": {
        "id": "u-8BcjMSHgdQ"
      },
      "outputs": [],
      "source": [
        "abs(21.7 - 18.2)"
      ],
      "id": "u-8BcjMSHgdQ"
    },
    {
      "cell_type": "markdown",
      "metadata": {
        "id": "rDOFU5zqHgdQ"
      },
      "source": [
        "¿Que está pasando aqui? `abs` toma solo un argumento, por lo que todo lo que está dentro del paréntesis es parte de ese *argumento único*. Específicamente, el argumento es el valor de la expresión `21,7 - 18,2`. El valor de esa expresión es \"3,5\". Ese valor es el argumento de \"abs\". El valor absoluto de eso es \"3,5\", por lo que \"3,5\" es el valor de la expresión completa \"abs(21,7 - 18,2)\".\n",
        "\n",
        "Imagen simplificando la expresión en varios pasos:\n",
        "\n",
        "1. `abs(21,7 - 18,2)`\n",
        "2. `abs(3.5)`\n",
        "3. `3.5`\n",
        "\n",
        "De hecho, eso es básicamente lo que hace Python para calcular el valor de la expresión."
      ],
      "id": "rDOFU5zqHgdQ"
    },
    {
      "cell_type": "markdown",
      "metadata": {
        "id": "samlvUeaHgdQ"
      },
      "source": [
        "**Pregunta 5.1.** Digamos que la longitud de Genghis es de 16,7 pulgadas. En la siguiente celda, use \"abs\" para calcular el valor absoluto de la diferencia entre la longitud de Genghis y la longitud promedio del gato. Asigne a ese valor el nombre `genghis_distance_from_average_in`."
      ],
      "id": "samlvUeaHgdQ"
    },
    {
      "cell_type": "code",
      "execution_count": null,
      "metadata": {
        "deletable": false,
        "tags": [],
        "id": "tyXfDwYiHgdQ"
      },
      "outputs": [],
      "source": [
        "# Reemplazar... con una expresión\n",
        "# para calcular el valor absoluto\n",
        "# de la diferencia entre la longitud de Genghis (16,7 pulgadas) y la longitud promedio de un gato.\n",
        "genghis_distance_from_average_in = ...\n",
        "\n",
        "# Nuevamente, hemos escrito esto aquí\n",
        "# para que se imprima la distancia que calculas\n",
        "# cuando ejecutas esta celda.\n",
        "distancia_genghis_desde_el_promedio"
      ],
      "id": "tyXfDwYiHgdQ"
    },
    {
      "cell_type": "code",
      "execution_count": null,
      "metadata": {
        "deletable": false,
        "editable": false,
        "id": "L61lgDmJHgdR"
      },
      "outputs": [],
      "source": [
        "grader.check(\"q51\")"
      ],
      "id": "L61lgDmJHgdR"
    },
    {
      "cell_type": "markdown",
      "metadata": {
        "id": "Pr_mJPW5HgdR"
      },
      "source": [
        "## 5.1. Más anidación\n",
        "Ahora digamos que queremos calcular la más inusual de las dos longitudes de gato. Usaremos la función `max`, que (nuevamente) toma dos números como argumentos y devuelve el mayor de los dos argumentos. Combinando eso con la función `abs`, podemos calcular la distancia mayor desde el promedio entre las dos longitudes:"
      ],
      "id": "Pr_mJPW5HgdR"
    },
    {
      "cell_type": "code",
      "execution_count": null,
      "metadata": {
        "id": "7aZlPR-gHgdR"
      },
      "outputs": [],
      "source": [
        "# Simplemente lea y ejecute esta celda.\n",
        "\n",
        "ravioli_length_in = 21.7\n",
        "genghis_length_in = 16.7\n",
        "average_cat_length = 18.2\n",
        "\n",
        "# La mayor distancia desde la longitud promedio del gato, entre las dos longitudes:larger_distance_in = max(abs(ravioli_length_in - average_cat_length), abs(genghis_length_in - average_cat_length))\n",
        "\n",
        "# Imprima nuestros resultados en un formato agradable y legible:\n",
        "print(\"The larger distance from the average length among these two cats is\", larger_distance_in, \"inches.\")"
      ],
      "id": "7aZlPR-gHgdR"
    },
    {
      "cell_type": "markdown",
      "metadata": {
        "id": "L2WsQ_QxHgdR"
      },
      "source": [
        "La línea donde se calcula `larger_distance_in` parece complicada, pero podemos dividirla en componentes más simples como lo hicimos antes.\n",
        "\n",
        "La receta básica consiste en simplificar repetidamente pequeñas partes de la expresión:\n",
        "* **Expresiones básicas:** Comience con expresiones cuyos valores conocemos, como nombres o números.\n",
        "     - Ejemplos: `genghis_length_in` o `16.7`.\n",
        "* **Encuentre el siguiente grupo de expresiones más simple:** Busque expresiones básicas que estén directamente conectadas entre sí. Esto puede ser mediante aritmética o como argumentos para una llamada a función.\n",
        "     - Ejemplo: `genghis_length_in - Average_cat_length`.\n",
        "* **Evalúa ese grupo:** Evalúa la expresión aritmética o llamada a función. Utilice el valor calculado para reemplazar el grupo de expresiones.\n",
        "     - Ejemplo: `genghis_length_in - Average_cat_length` se convierte en `-1.3`.\n",
        "* **Repetir:** Continúe este proceso, utilizando el valor de la expresión previamente evaluada como una nueva expresión básica. Deténgase cuando hayamos evaluado la expresión completa.\n",
        "     - Ejemplo: `abs(-1.3)` se convierte en `1.3` y `max(3.5, 1.3)` se convierte en `3.5`.\n",
        "\n",
        "Puede ejecutar la siguiente celda para ver una presentación de diapositivas de ese proceso."
      ],
      "id": "L2WsQ_QxHgdR"
    },
    {
      "cell_type": "code",
      "execution_count": null,
      "metadata": {
        "id": "uqFGrTTLHgdR"
      },
      "outputs": [],
      "source": [
        "from IPython.display import IFrame\n",
        "IFrame('https://docs.google.com/presentation/d/14EKhQjGe0bUpLwKGo6BrPCtjsORSkY8h4BzAqvXoLTM/embed?start=false&loop=false&delayms=3000', 800, 600)"
      ],
      "id": "uqFGrTTLHgdR"
    },
    {
      "cell_type": "markdown",
      "metadata": {
        "id": "e_VizuhwHgdS"
      },
      "source": [
        "Esta bien tu turno.\n",
        "\n",
        "**Pregunta 5.1.1.** Dadas las longitudes de los gatos de Yanay, Hummus, Gatkes y Zeepty, escribe una expresión que calcule la diferencia más pequeña entre cualquiera de las tres longitudes. Su expresión no debe tener números, solo llamadas a funciones y los nombres \"hummus\", \"gatkes\" y \"zeepty\". Asigne al valor de su expresión el nombre `min_length_difference`."
      ],
      "id": "e_VizuhwHgdS"
    },
    {
      "cell_type": "code",
      "execution_count": null,
      "metadata": {
        "deletable": false,
        "tags": [],
        "id": "jQ8hz5ImHgdS"
      },
      "outputs": [],
      "source": [
        "# Las longitudes de los tres gatos, en pulgadas:\n",
        "hummus =  24.5 # Hummus is 24.5 inches long\n",
        "gatkes = 19.7 # Gatkes is 19.7 inches long\n",
        "zeepty = 15.8 # Zeepty is 15.8 inches long\n",
        "\n",
        "# Nos gustaría ver los 3 pares de longitudes,\n",
        "# calcular la diferencia absoluta entre cada par,\n",
        "# y luego encuentra la más pequeña de esas 3 diferencias absolutas.\n",
        "# ¡Esto te lo dejamos a ti!\n",
        "# Si estás atascado, intenta calcular el valor de cada paso del proceso.\n",
        "# (como la diferencia entre la longitud de Hummus y la longitud de Gatkes)\n",
        "# en una línea separada y dándole un nombre (como hummus_gatkes_length_diff)\n",
        "min_length_difference = ..."
      ],
      "id": "jQ8hz5ImHgdS"
    },
    {
      "cell_type": "code",
      "execution_count": null,
      "metadata": {
        "deletable": false,
        "editable": false,
        "id": "ROBwFTysHgdS"
      },
      "outputs": [],
      "source": [
        "grader.check(\"q5_1_1\")"
      ],
      "id": "ROBwFTysHgdS"
    },
    {
      "cell_type": "markdown",
      "metadata": {
        "id": "Uq0BNBRbHgdS"
      },
      "source": [
        "¡Ya terminaste con el Laboratorio 1!\n",
        "\n",
        "**Información importante sobre el envío:** Asegúrese de ejecutar las pruebas y verificar que todas pasen, luego elija **Guardar Notebook** en el menú **Archivo**, luego **ejecute la celda final** y haga clic en enlace para descargar el archivo zip. Luego, vaya a [Gradescope](https://www.gradescope.com/courses/576157) y envíe el archivo zip a la tarea correspondiente. El nombre de esta tarea es \"Lab 01 Autograder\".\n",
        "\n",
        "**Una vez que haya enviado, su tarea de Gradescope debería verse como la siguiente imagen si pasó todas las pruebas.** <span style=\"color: red\">**Asegúrese de ver \"Todos los casos de prueba aprobados\" para asegurarse tu tarea se envió correctamente.**</span> Si tu tarea no se ve así, es probable que no hayas cargado tu cuaderno correctamente.\n",
        "\n",
        "<img src=\"https://github.com/darioblandon/materials-fa23/blob/main/lab/lab01/gradescope.png?raw=1\">\n",
        "\n",
        "¡Dash quería felicitarte y darte la bienvenida a Data 8!\n",
        "\n",
        "<img src=\"https://github.com/darioblandon/materials-fa23/blob/main/lab/lab01/dash.JPG?raw=1\" alt=\"dibujo\" ancho=\"300\"/>"
      ],
      "id": "Uq0BNBRbHgdS"
    },
    {
      "cell_type": "markdown",
      "metadata": {
        "deletable": false,
        "editable": false,
        "id": "xbSehJxZHgdS"
      },
      "source": [
        "## Envío\n",
        "\n",
        "Asegúrese de haber ejecutado todas las celdas de su cuaderno en orden antes de ejecutar la siguiente celda, para que todas las imágenes/gráficos aparezcan en el resultado. La siguiente celda generará un archivo zip para que lo envíe. **¡Guarde antes de exportar!**"
      ],
      "id": "xbSehJxZHgdS"
    },
    {
      "cell_type": "code",
      "execution_count": null,
      "metadata": {
        "deletable": false,
        "editable": false,
        "id": "WY7LqSmaHgdS"
      },
      "outputs": [],
      "source": [
        "# Save your notebook first, then run this cell to export your submission.\n",
        "grader.export(pdf=False, run_tests=True)"
      ],
      "id": "WY7LqSmaHgdS"
    }
  ],
  "metadata": {
    "kernelspec": {
      "display_name": "Python 3",
      "language": "python",
      "name": "python3"
    },
    "language_info": {
      "codemirror_mode": {
        "name": "ipython",
        "version": 3
      },
      "file_extension": ".py",
      "mimetype": "text/x-python",
      "name": "python",
      "nbconvert_exporter": "python",
      "pygments_lexer": "ipython3",
      "version": "3.11.2"
    },
    "otter": {
      "OK_FORMAT": true,
      "tests": {
        "q0": {
          "name": "q0",
          "points": null,
          "suites": [
            {
              "cases": [
                {
                  "code": ">>> secret_word == \"welcome\"\nTrue",
                  "hidden": false,
                  "locked": false
                }
              ],
              "scored": true,
              "setup": "",
              "teardown": "",
              "type": "doctest"
            }
          ]
        },
        "q3_1_2": {
          "name": "q3_1_2",
          "points": null,
          "suites": [
            {
              "cases": [
                {
                  "code": ">>> # It looks like you didn't give anything the name\n>>> # seconds_in_a_decade.  Maybe there's a typo, or maybe you\n>>> # just need to run the cell below Question 3.2 where you defined\n>>> # seconds_in_a_decade.  (Click that cell and then click the \"run\n>>> # cell\" button in the menu bar above.)\n>>> 'seconds_in_a_decade' in vars()\nTrue",
                  "hidden": false,
                  "locked": false
                },
                {
                  "code": ">>> # It looks like you didn't change the cell to define\n>>> # seconds_in_a_decade appropriately.  It should be a number,\n>>> # computed using Python's arithmetic.  For example, this is\n>>> # almost right:\n>>> #   seconds_in_a_decade = 10*365*24*60*60\n>>> seconds_in_a_decade != ...\nTrue",
                  "hidden": false,
                  "locked": false
                },
                {
                  "code": ">>> # It looks like you didn't account for leap years.\n>>> # There were 2 leap years and 8 non-leap years in this period.\n>>> # Leap years have 366 days instead of 365.\n>>> seconds_in_a_decade != 315360000\nTrue",
                  "hidden": false,
                  "locked": false
                },
                {
                  "code": ">>> seconds_in_a_decade == 315532800\nTrue",
                  "hidden": false,
                  "locked": false
                }
              ],
              "scored": true,
              "setup": "",
              "teardown": "",
              "type": "doctest"
            }
          ]
        },
        "q3_3_1": {
          "name": "q3_3_1",
          "points": null,
          "suites": [
            {
              "cases": [
                {
                  "code": ">>> # Fill in the row\n>>> #   time = ...\n>>> # with something like:\n>>> #   time = 4.567\n>>> # (except with the right number).\n>>> time != ...\nTrue",
                  "hidden": false,
                  "locked": false
                },
                {
                  "code": ">>> # Read the text above the question to see what\n>>> # time should be. \n>>> round(time, 5)\n1.2",
                  "hidden": false,
                  "locked": false
                },
                {
                  "code": ">>> # Fill in the row\n>>> #   estimated_distance_m = ...\n>>> # with something like:\n>>> #   estimated_distance_m = 4.567\n>>> # (except with the right number). \n>>> estimated_distance_m != ...\nTrue",
                  "hidden": false,
                  "locked": false
                },
                {
                  "code": ">>> # Note that the units are meters, but the text used\n>>> # centimeters.\n>>> estimated_distance_m != 113\nTrue",
                  "hidden": false,
                  "locked": false
                },
                {
                  "code": ">>> # Read the text above the question to see what\n>>> # estimated_distance_m should be.\n>>> round(estimated_distance_m, 5)\n1.13",
                  "hidden": false,
                  "locked": false
                }
              ],
              "scored": true,
              "setup": "",
              "teardown": "",
              "type": "doctest"
            }
          ]
        },
        "q3_3_2": {
          "name": "q3_3_2",
          "points": null,
          "suites": [
            {
              "cases": [
                {
                  "code": ">>> # Fill in the line that currently says\n>>> #   predicted_distance_m = ...\n>>> # in the cell above.\n>>> predicted_distance_m != ...\nTrue",
                  "hidden": false,
                  "locked": false
                },
                {
                  "code": ">>> # Compute predicted_distance_m using the formula in the text\n>>> # above.  Hint: it should start with something like this:\n>>> #   predicted_distance_m = (1/2) * gravity_constant ...\n>>> round(predicted_distance_m, 5)\n1.17022",
                  "hidden": false,
                  "locked": false
                },
                {
                  "code": ">>> round(difference, 5)\n0.04022",
                  "hidden": false,
                  "locked": false
                }
              ],
              "scored": true,
              "setup": "",
              "teardown": "",
              "type": "doctest"
            }
          ]
        },
        "q4_1_1": {
          "name": "q4_1_1",
          "points": null,
          "suites": [
            {
              "cases": [
                {
                  "code": ">>> # Fill in the line\n>>> #   num_avenues_away = ...\n>>> # in the cell above. \n>>> num_avenues_away != ...\nTrue",
                  "hidden": false,
                  "locked": false
                },
                {
                  "code": ">>> # Remember to compute the absolute value of 7-10.  Traveling \n>>> # \"-3 blocks\" doesn't really make sense!\n>>> num_avenues_away != -3\nTrue",
                  "hidden": false,
                  "locked": false
                },
                {
                  "code": ">>> num_avenues_away\n3",
                  "hidden": false,
                  "locked": false
                },
                {
                  "code": ">>> manhattan_distance\n1462",
                  "hidden": false,
                  "locked": false
                }
              ],
              "scored": true,
              "setup": "",
              "teardown": "",
              "type": "doctest"
            }
          ]
        },
        "q51": {
          "name": "q51",
          "points": null,
          "suites": [
            {
              "cases": [
                {
                  "code": ">>> round(genghis_distance_from_average_in, 3)\n1.5",
                  "hidden": false,
                  "locked": false
                }
              ],
              "scored": true,
              "setup": "",
              "teardown": "",
              "type": "doctest"
            }
          ]
        },
        "q5_1_1": {
          "name": "q5_1_1",
          "points": null,
          "suites": [
            {
              "cases": [
                {
                  "code": ">>> round(min_length_difference, 5)\n3.9",
                  "hidden": false,
                  "locked": false
                }
              ],
              "scored": true,
              "setup": "",
              "teardown": "",
              "type": "doctest"
            }
          ]
        }
      }
    },
    "colab": {
      "provenance": [],
      "include_colab_link": true
    }
  },
  "nbformat": 4,
  "nbformat_minor": 5
}